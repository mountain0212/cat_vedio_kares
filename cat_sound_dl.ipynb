{
  "nbformat": 4,
  "nbformat_minor": 0,
  "metadata": {
    "kernelspec": {
      "display_name": "Python 3",
      "language": "python",
      "name": "python3"
    },
    "language_info": {
      "codemirror_mode": {
        "name": "ipython",
        "version": 3
      },
      "file_extension": ".py",
      "mimetype": "text/x-python",
      "name": "python",
      "nbconvert_exporter": "python",
      "pygments_lexer": "ipython3",
      "version": "3.8.3"
    },
    "colab": {
      "name": "cat_sound_dl.ipynb",
      "provenance": [],
      "collapsed_sections": [],
      "toc_visible": true,
      "include_colab_link": true
    },
    "accelerator": "GPU"
  },
  "cells": [
    {
      "cell_type": "markdown",
      "metadata": {
        "id": "view-in-github",
        "colab_type": "text"
      },
      "source": [
        "<a href=\"https://colab.research.google.com/github/mountain0212/cat_vedio_kares/blob/master/cat_sound_dl.ipynb\" target=\"_parent\"><img src=\"https://colab.research.google.com/assets/colab-badge.svg\" alt=\"Open In Colab\"/></a>"
      ]
    },
    {
      "cell_type": "markdown",
      "metadata": {
        "id": "qJvxUd_vhn_s",
        "colab_type": "text"
      },
      "source": [
        "# 環境設定\n"
      ]
    },
    {
      "cell_type": "code",
      "metadata": {
        "id": "ihIgARKRS_H7",
        "colab_type": "code",
        "colab": {
          "base_uri": "https://localhost:8080/",
          "height": 34
        },
        "outputId": "911a0250-4a89-4cd3-bccb-400be1169308"
      },
      "source": [
        "from google.colab import drive\n",
        "drive.mount('/content/drive')"
      ],
      "execution_count": null,
      "outputs": [
        {
          "output_type": "stream",
          "text": [
            "Drive already mounted at /content/drive; to attempt to forcibly remount, call drive.mount(\"/content/drive\", force_remount=True).\n"
          ],
          "name": "stdout"
        }
      ]
    },
    {
      "cell_type": "code",
      "metadata": {
        "id": "5EGskHGcSzG3",
        "colab_type": "code",
        "colab": {
          "base_uri": "https://localhost:8080/",
          "height": 227
        },
        "outputId": "ef9619cb-2f20-41be-bc15-2f1f07426a57"
      },
      "source": [
        "import os\n",
        "soundlist = os.listdir('/content/drive/My Drive/all_data_used')\n",
        "soundlist"
      ],
      "execution_count": null,
      "outputs": [
        {
          "output_type": "execute_result",
          "data": {
            "text/plain": [
              "['CuteStrayCat_130.wav',\n",
              " 'none',\n",
              " 'caveat',\n",
              " 'cat_talk_cats',\n",
              " 'cat_call_persion',\n",
              " 'purring',\n",
              " 'x_train_o.npy',\n",
              " 'y_train_o.npy',\n",
              " 'x_test_o.npy',\n",
              " 'y_test_o.npy',\n",
              " 'used_none_data.npy',\n",
              " 'to_niose_data.npy']"
            ]
          },
          "metadata": {
            "tags": []
          },
          "execution_count": 2
        }
      ]
    },
    {
      "cell_type": "code",
      "metadata": {
        "id": "4mxqzgKtTycS",
        "colab_type": "code",
        "colab": {
          "base_uri": "https://localhost:8080/",
          "height": 289
        },
        "outputId": "52d5665d-03d7-428b-d70a-a08833caac51"
      },
      "source": [
        "pip install pydub librosa"
      ],
      "execution_count": null,
      "outputs": [
        {
          "output_type": "stream",
          "text": [
            "Collecting pydub\n",
            "  Downloading https://files.pythonhosted.org/packages/7b/d1/fbfa79371a8cd9bb15c2e3c480d7e6e340ed5cc55005174e16f48418333a/pydub-0.24.1-py2.py3-none-any.whl\n",
            "Requirement already satisfied: librosa in /usr/local/lib/python3.6/dist-packages (0.6.3)\n",
            "Requirement already satisfied: numba>=0.38.0 in /usr/local/lib/python3.6/dist-packages (from librosa) (0.48.0)\n",
            "Requirement already satisfied: scikit-learn!=0.19.0,>=0.14.0 in /usr/local/lib/python3.6/dist-packages (from librosa) (0.22.2.post1)\n",
            "Requirement already satisfied: scipy>=1.0.0 in /usr/local/lib/python3.6/dist-packages (from librosa) (1.4.1)\n",
            "Requirement already satisfied: joblib>=0.12 in /usr/local/lib/python3.6/dist-packages (from librosa) (0.15.1)\n",
            "Requirement already satisfied: decorator>=3.0.0 in /usr/local/lib/python3.6/dist-packages (from librosa) (4.4.2)\n",
            "Requirement already satisfied: resampy>=0.2.0 in /usr/local/lib/python3.6/dist-packages (from librosa) (0.2.2)\n",
            "Requirement already satisfied: numpy>=1.8.0 in /usr/local/lib/python3.6/dist-packages (from librosa) (1.18.5)\n",
            "Requirement already satisfied: audioread>=2.0.0 in /usr/local/lib/python3.6/dist-packages (from librosa) (2.1.8)\n",
            "Requirement already satisfied: six>=1.3 in /usr/local/lib/python3.6/dist-packages (from librosa) (1.12.0)\n",
            "Requirement already satisfied: setuptools in /usr/local/lib/python3.6/dist-packages (from numba>=0.38.0->librosa) (47.3.1)\n",
            "Requirement already satisfied: llvmlite<0.32.0,>=0.31.0dev0 in /usr/local/lib/python3.6/dist-packages (from numba>=0.38.0->librosa) (0.31.0)\n",
            "Installing collected packages: pydub\n",
            "Successfully installed pydub-0.24.1\n"
          ],
          "name": "stdout"
        }
      ]
    },
    {
      "cell_type": "code",
      "metadata": {
        "id": "ab339UIeW1Ou",
        "colab_type": "code",
        "colab": {
          "base_uri": "https://localhost:8080/",
          "height": 52
        },
        "outputId": "f1780dff-81c5-4e94-a6dd-d3ff571a4e77"
      },
      "source": [
        "from keras import backend as K\n",
        "import gc\n",
        "\n",
        "\n",
        "K.clear_session()\n",
        "gc.collect()"
      ],
      "execution_count": null,
      "outputs": [
        {
          "output_type": "stream",
          "text": [
            "Using TensorFlow backend.\n"
          ],
          "name": "stderr"
        },
        {
          "output_type": "execute_result",
          "data": {
            "text/plain": [
              "0"
            ]
          },
          "metadata": {
            "tags": []
          },
          "execution_count": 5
        }
      ]
    },
    {
      "cell_type": "markdown",
      "metadata": {
        "id": "x5Q5vozAPxFy",
        "colab_type": "text"
      },
      "source": [
        "# 前處理 函式 - 聲音檔\n"
      ]
    },
    {
      "cell_type": "code",
      "metadata": {
        "id": "UX3un2_bPxFz",
        "colab_type": "code",
        "colab": {}
      },
      "source": [
        "# from pydub import AudioSegment\n",
        "# import os\n",
        "# import numpy as np\n",
        "# import scipy.io.wavfile as wav\n",
        "# import random\n",
        "# import librosa\n",
        "# import gc\n",
        "\n",
        "# # SAMPLING_RATE = 44100\n",
        "# SAMPLING_RATE = 22050\n",
        "# MFCC_NUM = 20\n",
        "# MFCC_MAX_LEN = 1024\n",
        "# path = \"/content/drive/My Drive/all_data_used\"\n",
        "# list_sigle =['none', 'purring', 'cat_talk_cats', 'cat_call_persion', 'caveat']\n",
        "# remove_none_data =[]\n",
        "# used_none_data = []\n",
        "# # 找尋長的聲音檔\n",
        "# # def find_Max_len():\n",
        "# #     MAX_LEN = 0\n",
        "# #     RATE = 22050\n",
        "# #     list_sr = []\n",
        "# #     mfcc_weight_list = []\n",
        "# #     all_data_folder_name = [f\"{item}\" for item in os.listdir(path) if \".\" not in item ]\n",
        "# #     for folder_name in all_data_folder_name:\n",
        "# #       file_name = os.listdir(f\"{path}/{folder_name}\")\n",
        "# #       data_temp = [f\"{path}/{folder_name}/{item}\" for item in file_name]\n",
        "\n",
        "# #       for item in data_temp: \n",
        "# #         wave, sr = librosa.load(item, mono=True, sr=None)\n",
        "# #         list_sr.append(sr)\n",
        "# #         mfcc_weight_list.append(sr)\n",
        "# #         mfcc = librosa.feature.mfcc(wave, sr=RATE)\n",
        "# #         mfcc_weight_list.append(mfcc.shape)\n",
        "\n",
        "# #     return list_sr, mfcc_weight_list\n",
        "\n",
        "# # 音樂檔轉MFCC\n",
        "# # def wav2mfcc(wave, max_len=2000):\n",
        "# # #     mfcc = librosa.feature.mfcc(wave, sr=16000)\n",
        "# #     wave_std = np.std(wave)\n",
        "# #     if wave_std != 0:\n",
        "# #       wave = wave / abs(wave_std)\n",
        "# #     # mfcc = librosa.feature.mfcc(wave, n_mfcc=MFCC_NUM, sr=SAMPLING_RATE)\n",
        "# #     mfcc = librosa.feature.chroma_stft(wave,n_chroma=MFCC_NUM, sr=SAMPLING_RATE)\n",
        "# #     # If maximum length exceeds mfcc lengths then pad the remaining ones\n",
        "# #     if (max_len > mfcc.shape[1]):\n",
        "# #         pad_width = max_len - mfcc.shape[1]\n",
        "# #         mfcc = np.pad(mfcc, pad_width=((0, 0), (0, pad_width)), mode='constant')\n",
        "\n",
        "# #     # Else cutoff the remaining parts\n",
        "# #     else:\n",
        "# #         mfcc = mfcc[:, :max_len]\n",
        "    \n",
        "# #     return mfcc\n",
        "\n",
        "# def wav2mfcc(wave, max_len=256):\n",
        "# #     mfcc = librosa.feature.mfcc(wave, sr=16000)\n",
        "#     wave_mean = abs(np.mean(wave))\n",
        "    \n",
        "#     if wave_mean != 0:\n",
        "#       wave = wave / wave_mean\n",
        "#     mfcc = librosa.feature.mfcc(wave, n_mfcc=MFCC_NUM, sr=SAMPLING_RATE)\n",
        "\n",
        "#     # If maximum length exceeds mfcc lengths then pad the remaining ones\n",
        "#     if (max_len > mfcc.shape[1]):\n",
        "#         pad_width = max_len - mfcc.shape[1]\n",
        "#         mfcc = np.pad(mfcc, pad_width=((0, 0), (0, pad_width)), mode='constant')\n",
        "\n",
        "#     # Else cutoff the remaining parts\n",
        "#     else:\n",
        "#         mfcc = mfcc[:, :max_len]\n",
        "    \n",
        "#     return mfcc\n",
        "\n",
        "# def wav2stft(wave, max_len=256):\n",
        "# #     mfcc = librosa.feature.mfcc(wave, sr=16000)\n",
        "\n",
        "#     wave_mean = abs(np.mean(wave))\n",
        "    \n",
        "#     if wave_mean != 0:\n",
        "#       wave = wave / wave_mean\n",
        "\n",
        "#     stft = librosa.feature.chroma_stft(wave,n_chroma=MFCC_NUM, sr=SAMPLING_RATE)\n",
        "#     # If maximum length exceeds mfcc lengths then pad the remaining ones\n",
        "#     if (max_len > stft.shape[1]):\n",
        "#         pad_width = max_len - stft.shape[1]\n",
        "#         stft = np.pad(stft, pad_width=((0, 0), (0, pad_width)), mode='constant')\n",
        "\n",
        "#     # Else cutoff the remaining parts\n",
        "#     else:\n",
        "#         stft = stft[:, :max_len]\n",
        "    \n",
        "#     return stft\n",
        "\n",
        "# # def get_whole_data():\n",
        "# #     x = []\n",
        "# #     y = []\n",
        "# #     all_data_folder_name = [f\"{path}/{item}\" for item in file_name]\n",
        "# #     all_data_name = [f\"{path}/{item}\" for item in file_name]\n",
        "# #     count = 0\n",
        "# #     for item in all_data_name: \n",
        "# #         if count %100 == 0:\n",
        "# #             print( item)\n",
        "# #         x_hold=[]\n",
        "# #         try:\n",
        "# #             wave, sr = librosa.load(item, mono=True, sr=None)\n",
        "# #             x_hold = wav2mfcc(wave,MFCC_MAX_LEN)\n",
        "# #             del wave,sr\n",
        "# #             gc.collect()\n",
        "# #             x.append(x_hold)\n",
        "# #             if \"angry\" in item:\n",
        "# #                 y.append([1,0,0])\n",
        "# #             elif \"purring\" in item:\n",
        "# #                 y.append([0,1,0])\n",
        "# #             elif \"estrus\" in item:\n",
        "# #                 y.append([0,0,1])\n",
        "# #         except:\n",
        "# #             print(\"error\")\n",
        "# #             pass\n",
        "# # #         x.append(x_hold)\n",
        "# #         count +=1\n",
        "# # #     x = np.array(x) / 100\n",
        "# #     x = np.array(x)\n",
        "# #     x = x.reshape(x.shape[0], MFCC_NUM, MFCC_MAX_LEN, 1)\n",
        "# #     y = np.array(y)\n",
        "# #     return x,y\n",
        "# # \n",
        "# # def add_noise(data):\n",
        "# #     wn = np.random.normal(0,1,len(data))\n",
        "# #     data_noise = np.where(data != 0.0, data.astype('float64') + 0.02 * wn, 0.0).astype(np.float32)\n",
        "# #     return data_noise\n",
        "\n",
        "# def add_other(data):\n",
        "# #     wn = np.random.normal(0,1,len(data))\n",
        "#     wave, sr = librosa.load(f\"{path}/CuteStrayCat_130.wav\", mono=True, sr=None)\n",
        "#     # wave = librosa.resample(wave, sr, 8000)\n",
        "#     to_num = int(abs(len(data) - len(wave)))\n",
        "#     to_long = np.zeros(to_num).astype('float64')\n",
        "#     if  len(data) > len(wave):\n",
        "#         wave =  np.append(wave,to_long)\n",
        "#     elif len(data) < len(wave):\n",
        "#         data =  np.append(data,to_long)\n",
        "        \n",
        "#     data_noise = data.astype('float64') + wave\n",
        "# #     data_noise = np.where(data1 != 0.0, data1.astype('float64') + 0.02 * data2, 0.0)\n",
        "#     return data_noise\n",
        "\n",
        "# def add_noise(data):\n",
        "#     wn = np.random.normal(0,1,len(data))\n",
        "#     data_noise = np.where(data != 0.0, data.astype('float64') + 0.02 * wn, 0.0)\n",
        "#     return data_noise\n",
        "\n",
        "# def add_noise_other(data, add_path):\n",
        "# #     wn = np.random.normal(0,1,len(data))\n",
        "#     wave, sr = librosa.load(add_path, mono=True, sr=None)\n",
        "#     # wave = librosa.resample(wave, sr, 8000)\n",
        "#     to_num = int(abs(len(data) - len(wave)))\n",
        "#     to_long = np.zeros(to_num).astype('float64')\n",
        "#     if  len(data) > len(wave):\n",
        "#         wave =  np.append(wave,to_long)\n",
        "#     elif len(data) < len(wave):\n",
        "#         data =  np.append(data,to_long)\n",
        "        \n",
        "#     data_noise = data.astype('float64') + wave\n",
        "# #     data_noise = np.where(data1 != 0.0, data1.astype('float64') + 0.02 * data2, 0.0)\n",
        "#     return data_noise\n",
        "\n",
        "# def create_more_data(data, folder_name,add_size ):\n",
        "#   x_data=[]\n",
        "#   y_data=[]\n",
        "#   global remove_none_data\n",
        "#   if len(remove_none_data) == 0:\n",
        "#     data_temp = [f\"{path}/none/{item}\" for item in os.listdir(f\"{path}/none\")]\n",
        "#     remove_none_data = random.sample(data_temp, add_size)\n",
        "#   zero_np = np.zeros(5)\n",
        "#   zero_np[list_sigle.index(folder_name)]=1\n",
        "#   x_hold1 = wav2mfcc(data)\n",
        "#   x_hold2 = wav2mfcc(add_noise(data))\n",
        "#   x_data.append(x_hold1)\n",
        "#   x_data.append(x_hold2)\n",
        "#   y_data.append(zero_np)\n",
        "#   y_data.append(zero_np)\n",
        "#   for x in remove_none_data:\n",
        "#     x_hold3 = wav2mfcc(add_noise_other(data, x))\n",
        "#     x_data.append(x_hold3)\n",
        "#     y_data.append(zero_np)\n",
        "\n",
        "#   return x_data,y_data\n",
        "\n",
        "# def get_whole_data_min(size_i=300,add_size=10):\n",
        "#     x_train = []\n",
        "#     y_train = []\n",
        "#     x_test = []\n",
        "#     y_test = []\n",
        "#     global remove_none_data\n",
        "#     all_data_folder_name = [f\"{item}\" for item in os.listdir(path) if \".\" not in item ]\n",
        "#     for folder_name in all_data_folder_name:\n",
        "#       file_name = os.listdir(f\"{path}/{folder_name}\")\n",
        "#       data_temp = [f\"{path}/{folder_name}/{item}\" for item in file_name]\n",
        "#       if folder_name ==\"none\":\n",
        "#         data_temp = [x for x in data_temp if x not in remove_none_data]\n",
        "#       all_data_name =random.sample(data_temp, size_i)\n",
        "#       count = 0\n",
        "#       for item in all_data_name: \n",
        "#           wave, sr = librosa.load(item, mono=True, sr=None)\n",
        "#           if count %100 == 0:\n",
        "#             print( item )\n",
        "#           x,y = create_more_data( wave, folder_name ,add_size)\n",
        "#           if count % 20==0:\n",
        "\n",
        "#             x_test += x\n",
        "#             y_test += y\n",
        "#           else:\n",
        "#             x_train += x\n",
        "#             y_train += y\n",
        "#   #         x.append(x_hold)\n",
        "#           count +=1\n",
        "#   #     x = np.array(x) / 100\n",
        "#     # 將資料存成NP檔案，切分割練習資料及測試資料\n",
        "#     x_train = np.array(x_train)\n",
        "#     x_train = x_train.reshape(x_train.shape[0], x_train.shape[1], x_train.shape[2], 1)\n",
        "#     y_train = np.array(y_train)\n",
        "#     x_test = np.array(x_test)\n",
        "#     x_test = x_test.reshape(x_test.shape[0], x_train.shape[1], x_train.shape[2], 1)\n",
        "#     y_test = np.array(y_test)\n",
        "#     return x_train,y_train,x_test,y_test\n",
        "\n",
        "# def get_whole_data(size_i=300):\n",
        "#     x_train = []\n",
        "#     y_train = []\n",
        "#     x_test = []\n",
        "#     y_test = []\n",
        "#     global remove_none_data\n",
        "#     all_data_folder_name = [f\"{item}\" for item in os.listdir(path) if \".\" not in item ]\n",
        "#     for folder_name in all_data_folder_name:\n",
        "#       file_name = os.listdir(f\"{path}/{folder_name}\")\n",
        "#       data_temp = [f\"{path}/{folder_name}/{item}\" for item in file_name]\n",
        "#       all_data_name =random.sample(data_temp, size_i)\n",
        "#       count = 0\n",
        "#       for item in all_data_name: \n",
        "#           # if count %100 == 0:\n",
        "#           #     print( item)\n",
        "#           x_hold=[]\n",
        "          \n",
        "#           wave, sr = librosa.load(item, mono=True, sr=None)\n",
        "#           wave_noise = add_noise(wave)\n",
        "#           wave_bird = add_other(wave)\n",
        "#           # 轉換成MFCC\n",
        "#           x_hold1 = wav2mfcc(wave)\n",
        "#           x_hold2 = wav2mfcc(wave_noise)\n",
        "#           x_hold3 = wav2mfcc(wave_bird)\n",
        "#           # 清空資料\n",
        "#           del wave,sr\n",
        "#           gc.collect()\n",
        "#           # 建置標籤檔\n",
        "#           zero_np = np.zeros(5)\n",
        "#           zero_np[list_sigle.index(folder_name)]=1\n",
        "\n",
        "#           if count %100 == 0:\n",
        "#             print( item ,zero_np )\n",
        "\n",
        "#           if count % 20==0:\n",
        "#             x_test.append(x_hold1)\n",
        "#             y_test.append(zero_np)\n",
        "#             x_test.append(x_hold2)\n",
        "#             y_test.append(zero_np)\n",
        "#             x_test.append(x_hold3)\n",
        "#             y_test.append(zero_np)\n",
        "#           else:\n",
        "#             x_train.append(x_hold1)\n",
        "#             y_train.append(zero_np)\n",
        "#             x_train.append(x_hold2)\n",
        "#             y_train.append(zero_np)\n",
        "#             x_train.append(x_hold3)\n",
        "#             y_train.append(zero_np)\n",
        "\n",
        "#   #         x.append(x_hold)\n",
        "#           count +=1\n",
        "#   #     x = np.array(x) / 100\n",
        "#     # 將資料存成NP檔案，切分割練習資料及測試資料\n",
        "#     x_train = np.array(x_train)\n",
        "#     x_train = x_train.reshape(x_train.shape[0], x_train.shape[1], x_train.shape[2], 1)\n",
        "#     y_train = np.array(y_train)\n",
        "#     x_test = np.array(x_test)\n",
        "#     x_test = x_test.reshape(x_test.shape[0], x_train.shape[1], x_train.shape[2], 1)\n",
        "#     y_test = np.array(y_test)\n",
        "#     return x_train,y_train,x_test,y_test\n",
        "\n",
        "\n",
        "\n",
        "\n"
      ],
      "execution_count": null,
      "outputs": []
    },
    {
      "cell_type": "markdown",
      "metadata": {
        "id": "HUljGn0rmnpg",
        "colab_type": "text"
      },
      "source": [
        "# 讀入資料 - 聲音檔\n"
      ]
    },
    {
      "cell_type": "code",
      "metadata": {
        "id": "KnIaxxKgPxF3",
        "colab_type": "code",
        "colab": {
          "base_uri": "https://localhost:8080/",
          "height": 367
        },
        "outputId": "b8f3a3e4-6a34-49e2-bad5-88bdfe8474a4"
      },
      "source": [
        "\n",
        "# x_train,y_train, x_test, y_test= get_whole_data(400)\n"
      ],
      "execution_count": null,
      "outputs": [
        {
          "output_type": "stream",
          "text": [
            "/content/drive/My Drive/all_data_used/none/Demanding Meows Of My Cat.wav_38.wav [1. 0. 0. 0. 0.]\n",
            "/content/drive/My Drive/all_data_used/none/FeralCatMeowing_120.wav [1. 0. 0. 0. 0.]\n",
            "/content/drive/My Drive/all_data_used/none/Fourcatsmeow_181.wav [1. 0. 0. 0. 0.]\n",
            "/content/drive/My Drive/all_data_used/none/straycatmeow_48.wav [1. 0. 0. 0. 0.]\n",
            "/content/drive/My Drive/all_data_used/caveat/ofAngryCatSound.wav_217.wav [0. 0. 0. 0. 1.]\n",
            "/content/drive/My Drive/all_data_used/caveat/ofAngryCatSound.wav_129.wav [0. 0. 0. 0. 1.]\n",
            "/content/drive/My Drive/all_data_used/caveat/ofAngryCatSound.wav_147.wav [0. 0. 0. 0. 1.]\n",
            "/content/drive/My Drive/all_data_used/caveat/ofAngryCatSound.wav_56.wav [0. 0. 0. 0. 1.]\n",
            "/content/drive/My Drive/all_data_used/cat_talk_cats/Cat in heat - frog pose and yowling.wav_30.wav [0. 0. 1. 0. 0.]\n",
            "/content/drive/My Drive/all_data_used/cat_talk_cats/Female cat in heat sounds - Cat hissing sound effects  Big cat voices  Meowing kitten.wav_17.wav [0. 0. 1. 0. 0.]\n",
            "/content/drive/My Drive/all_data_used/cat_talk_cats/Male Cat In Heat Sounds - Male Cat Angry sound - Cat Voices  Cat hissing sound effect.wav_36.wav [0. 0. 1. 0. 0.]\n",
            "/content/drive/My Drive/all_data_used/cat_talk_cats/Cat In Heat Goes Crazy.wav_18.wav [0. 0. 1. 0. 0.]\n",
            "/content/drive/My Drive/all_data_used/cat_call_persion/CuteStrayCat_104.wav [0. 0. 0. 1. 0.]\n",
            "/content/drive/My Drive/all_data_used/cat_call_persion/Hungry cat meow very loud on the street.wav_25.wav [0. 0. 0. 1. 0.]\n",
            "/content/drive/My Drive/all_data_used/cat_call_persion/straycatmeow_13.wav [0. 0. 0. 1. 0.]\n",
            "/content/drive/My Drive/all_data_used/cat_call_persion/HungryStrayCat_4.wav [0. 0. 0. 1. 0.]\n",
            "/content/drive/My Drive/all_data_used/purring/Happy Cat Purring Smoothly - Comforting Sounds for Sleep, Relaxation, Learning, Concentration, ASMR.wav_36.wav [0. 1. 0. 0. 0.]\n",
            "/content/drive/My Drive/all_data_used/purring/Happy Cat Purring Smoothly - Comforting Sounds for Sleep, Relaxation, Learning, Concentration, ASMR.wav_164.wav [0. 1. 0. 0. 0.]\n",
            "/content/drive/My Drive/all_data_used/purring/3 Mins of Happy Cat Purring.wav_43.wav [0. 1. 0. 0. 0.]\n",
            "/content/drive/My Drive/all_data_used/purring/Happy Cat Purring Smoothly - Comforting Sounds for Sleep, Relaxation, Learning, Concentration, ASMR.wav_86.wav [0. 1. 0. 0. 0.]\n"
          ],
          "name": "stdout"
        }
      ]
    },
    {
      "cell_type": "code",
      "metadata": {
        "id": "17Oz-h_u3zsQ",
        "colab_type": "code",
        "colab": {
          "base_uri": "https://localhost:8080/",
          "height": 233
        },
        "outputId": "d7e2730b-022e-4b00-8ea5-e45a961ae2dd"
      },
      "source": [
        "# def show_data(a):\n",
        "#   print(type(a) )\n",
        "#   print(a.shape )\n",
        "#   print(a.dtype )\n",
        "\n",
        "# x_train,y_train, x_test, y_test= get_whole_data_min(300,5)\n",
        "# # show_data(a)\n",
        "# # show_data(b)\n",
        "# # show_data(c)\n",
        "# # show_data(d)"
      ],
      "execution_count": null,
      "outputs": [
        {
          "output_type": "error",
          "ename": "NameError",
          "evalue": "ignored",
          "traceback": [
            "\u001b[0;31m---------------------------------------------------------------------------\u001b[0m",
            "\u001b[0;31mNameError\u001b[0m                                 Traceback (most recent call last)",
            "\u001b[0;32m<ipython-input-1-fc295272f541>\u001b[0m in \u001b[0;36m<module>\u001b[0;34m()\u001b[0m\n\u001b[1;32m      4\u001b[0m   \u001b[0mprint\u001b[0m\u001b[0;34m(\u001b[0m\u001b[0ma\u001b[0m\u001b[0;34m.\u001b[0m\u001b[0mdtype\u001b[0m \u001b[0;34m)\u001b[0m\u001b[0;34m\u001b[0m\u001b[0;34m\u001b[0m\u001b[0m\n\u001b[1;32m      5\u001b[0m \u001b[0;34m\u001b[0m\u001b[0m\n\u001b[0;32m----> 6\u001b[0;31m \u001b[0mx_train\u001b[0m\u001b[0;34m,\u001b[0m\u001b[0my_train\u001b[0m\u001b[0;34m,\u001b[0m \u001b[0mx_test\u001b[0m\u001b[0;34m,\u001b[0m \u001b[0my_test\u001b[0m\u001b[0;34m=\u001b[0m \u001b[0mget_whole_data_min\u001b[0m\u001b[0;34m(\u001b[0m\u001b[0;36m300\u001b[0m\u001b[0;34m,\u001b[0m\u001b[0;36m5\u001b[0m\u001b[0;34m)\u001b[0m\u001b[0;34m\u001b[0m\u001b[0;34m\u001b[0m\u001b[0m\n\u001b[0m\u001b[1;32m      7\u001b[0m \u001b[0;31m# show_data(a)\u001b[0m\u001b[0;34m\u001b[0m\u001b[0;34m\u001b[0m\u001b[0;34m\u001b[0m\u001b[0m\n\u001b[1;32m      8\u001b[0m \u001b[0;31m# show_data(b)\u001b[0m\u001b[0;34m\u001b[0m\u001b[0;34m\u001b[0m\u001b[0;34m\u001b[0m\u001b[0m\n",
            "\u001b[0;31mNameError\u001b[0m: name 'get_whole_data_min' is not defined"
          ]
        }
      ]
    },
    {
      "cell_type": "code",
      "metadata": {
        "id": "BgMVF88Z7NUD",
        "colab_type": "code",
        "colab": {
          "base_uri": "https://localhost:8080/",
          "height": 192
        },
        "outputId": "18e30ed5-a52b-40de-8a7a-5a6cc563ac0e"
      },
      "source": [
        "# remove_none_data"
      ],
      "execution_count": null,
      "outputs": [
        {
          "output_type": "execute_result",
          "data": {
            "text/plain": [
              "['/content/drive/My Drive/all_data_used/none/TwoStrayCats_31.wav',\n",
              " '/content/drive/My Drive/all_data_used/none/FeralCat SlowlyWalks_74.wav',\n",
              " '/content/drive/My Drive/all_data_used/none/TwoStrayCats_33.wav',\n",
              " '/content/drive/My Drive/all_data_used/none/Demanding Meows Of My Cat.wav_106.wav',\n",
              " '/content/drive/My Drive/all_data_used/none/TwoStrayCats_24.wav',\n",
              " '/content/drive/My Drive/all_data_used/none/StrayCatsMeowing_51.wav',\n",
              " '/content/drive/My Drive/all_data_used/none/HungryStrayCat_88.wav',\n",
              " '/content/drive/My Drive/all_data_used/none/FeralCatMeowing_115.wav',\n",
              " '/content/drive/My Drive/all_data_used/none/Fourcatsmeow_182.wav',\n",
              " '/content/drive/My Drive/all_data_used/none/Demanding Meows Of My Cat.wav_167.wav']"
            ]
          },
          "metadata": {
            "tags": []
          },
          "execution_count": 24
        }
      ]
    },
    {
      "cell_type": "markdown",
      "metadata": {
        "id": "G4TsbHv656Zw",
        "colab_type": "text"
      },
      "source": [
        "# 聲音檔轉munpy &存成npy檔"
      ]
    },
    {
      "cell_type": "code",
      "metadata": {
        "id": "IKm48dV0_b-b",
        "colab_type": "code",
        "colab": {}
      },
      "source": [
        "# from pydub import AudioSegment\n",
        "# import os\n",
        "# import numpy as np\n",
        "# import scipy.io.wavfile as wav\n",
        "# import random\n",
        "# import librosa\n",
        "# import gc\n",
        "# x_train_o=[]\n",
        "# y_train_o=[]\n",
        "# x_test_o=[]\n",
        "# y_test_o=[]\n",
        "# path = \"/content/drive/My Drive/all_data_used\"\n",
        "# list_sigle =['none', 'purring', 'cat_talk_cats', 'cat_call_persion', 'caveat']\n",
        "# used_none_data=np.load(f'{path}/used_none_data.npy')\n",
        "\n",
        "# all_data_folder_name = [f\"{item}\" for item in os.listdir(path) if \".\" not in item ]\n",
        "# for folder_name in all_data_folder_name:\n",
        "#   file_name = os.listdir(f\"{path}/{folder_name}\")\n",
        "#   data_temp = [f\"{path}/{folder_name}/{item}\" for item in file_name]\n",
        "#   all_data_name =random.sample(data_temp, 400)\n",
        "#   if folder_name ==\"none\":\n",
        "#     used_none_data = all_data_name\n",
        "#   count = 0\n",
        "#   for item in all_data_name: \n",
        "#     wave, sr = librosa.load(item, mono=True, sr=None)\n",
        "#     zero_np = np.zeros(5)\n",
        "#     zero_np[list_sigle.index(folder_name)]=1\n",
        "\n",
        "#     if count % 20==0:\n",
        "#         x_test_o.append([wave])\n",
        "#         y_test_o.append(zero_np)\n",
        "#     else:\n",
        "#         x_train_o.append([wave])\n",
        "#         y_train_o.append(zero_np)\n",
        "#     count +=1\n",
        "# x_train_o = np.array(x_train_o)\n",
        "# y_train_o = np.array(y_train_o)\n",
        "# x_test_o = np.array(x_test_o)\n",
        "# y_test_o = np.array(y_test_o)\n",
        "\n",
        "# np.save(f'{path}/x_train_o.npy',x_train_o)\n",
        "# np.save(f'{path}/y_train_o.npy',y_train_o)\n",
        "# np.save(f'{path}/x_test_o.npy',x_test_o)\n",
        "# np.save(f'{path}/y_test_o.npy',y_test_o)\n",
        "\n"
      ],
      "execution_count": null,
      "outputs": []
    },
    {
      "cell_type": "markdown",
      "metadata": {
        "id": "BAj1zq7GN5qK",
        "colab_type": "text"
      },
      "source": [
        "雜音存成numpy檔"
      ]
    },
    {
      "cell_type": "code",
      "metadata": {
        "id": "YgM6GzNcNudZ",
        "colab_type": "code",
        "colab": {}
      },
      "source": [
        "# from pydub import AudioSegment\n",
        "# import os\n",
        "# import numpy as np\n",
        "# import scipy.io.wavfile as wav\n",
        "# import random\n",
        "# import librosa\n",
        "# import gc\n",
        "# to_niose_data =[]\n",
        "# file_name = os.listdir(f\"{path}/none\")\n",
        "# data_temp = [f\"{path}/none/{item}\" for item in os.listdir(f\"{path}/none\") if item not in used_none_data ]\n",
        "# for item in data_temp:\n",
        "#   wave, sr = librosa.load(item, mono=True, sr=None)\n",
        "#   to_niose_data.append([wave])\n",
        "# to_niose_data = np.array(to_niose_data)\n",
        "# np.save(f'{path}/to_niose_data.npy',to_niose_data)"
      ],
      "execution_count": null,
      "outputs": []
    },
    {
      "cell_type": "markdown",
      "metadata": {
        "id": "SwIdCt_B6CnQ",
        "colab_type": "text"
      },
      "source": [
        "# 讀取npy檔"
      ]
    },
    {
      "cell_type": "code",
      "metadata": {
        "id": "qB9VF3B36Fms",
        "colab_type": "code",
        "colab": {}
      },
      "source": [
        "from pydub import AudioSegment\n",
        "import os\n",
        "import numpy as np\n",
        "import scipy.io.wavfile as wav\n",
        "import random\n",
        "import librosa\n",
        "import gc\n",
        "used_none_data = []\n",
        "path = \"/content/drive/My Drive/all_data_used\"\n",
        "x_train_o=np.load(f'{path}/x_train_o.npy',allow_pickle=1)\n",
        "y_train_o=np.load(f'{path}/y_train_o.npy')\n",
        "x_test_o=np.load(f'{path}/x_test_o.npy',allow_pickle=1)\n",
        "y_test_o=np.load(f'{path}/y_test_o.npy')\n",
        "used_none_data=np.load(f'{path}/used_none_data.npy')\n",
        "to_niose_data =[x for x in np.load(f'{path}/to_niose_data.npy',allow_pickle=1)]\n",
        "MFCC_NUM = 20 \n",
        "SAMPLING_RATE=22050\n",
        "\n",
        "def wav2mfcc(wave, max_len=512):\n",
        "#     mfcc = librosa.feature.mfcc(wave, sr=16000)\n",
        "    wave_mean = abs(np.mean(wave))\n",
        "    \n",
        "    if wave_mean != 0:\n",
        "      wave = wave / wave_mean\n",
        "    mfcc = librosa.feature.mfcc(wave, n_mfcc=MFCC_NUM, sr=SAMPLING_RATE)\n",
        "\n",
        "    # If maximum length exceeds mfcc lengths then pad the remaining ones\n",
        "    if (max_len > mfcc.shape[1]):\n",
        "        pad_width = max_len - mfcc.shape[1]\n",
        "        mfcc = np.pad(mfcc, pad_width=((0, 0), (0, pad_width)), mode='constant')\n",
        "\n",
        "    # Else cutoff the remaining parts\n",
        "    else:\n",
        "        mfcc = mfcc[:, :max_len]\n",
        "    \n",
        "    return mfcc\n",
        "\n",
        "\n",
        "def add_noise(data):\n",
        "    wn = np.random.normal(0,1,len(data))\n",
        "    data_noise = np.where(data != 0.0, data.astype('float64') + 0.02 * wn, 0.0)\n",
        "    return data_noise\n",
        "\n",
        "def add_noise_other(data, add_path):\n",
        "#     wn = np.random.normal(0,1,len(data))\n",
        "    wave, sr = librosa.load(add_path, mono=True, sr=None)\n",
        "    # wave = librosa.resample(wave, sr, 8000)\n",
        "    to_num = int(abs(len(data) - len(wave)))\n",
        "    to_long = np.zeros(to_num).astype('float64')\n",
        "    if  len(data) > len(wave):\n",
        "        wave =  np.append(wave,to_long)\n",
        "    elif len(data) < len(wave):\n",
        "        data =  np.append(data,to_long)\n",
        "        \n",
        "    data_noise = data.astype('float64') + wave\n",
        "#     data_noise = np.where(data1 != 0.0, data1.astype('float64') + 0.02 * data2, 0.0)\n",
        "    return data_noise\n",
        "\n",
        "def add_noise_other_np(data, add_data):\n",
        "  \n",
        "    to_num = int(abs(len(data) - len(add_data)))\n",
        "    to_long = np.zeros(to_num).astype('float64')\n",
        "    if  len(data) > len(add_data):\n",
        "        add_data =  np.append(add_data,to_long)\n",
        "    elif len(data) < len(add_data):\n",
        "        data =  np.append(data,to_long)\n",
        "        \n",
        "    data_noise = data.astype('float64') + (add_data *0.5)\n",
        "\n",
        "    return data_noise\n",
        "\n",
        "#  依照檔案路徑存將雜音加入系統中\n",
        "def GetFataFromPath(data_x,data_y ,add_size=10):\n",
        "    x = []\n",
        "    y = []\n",
        "    global used_none_data\n",
        "    data_temp = [f\"{path}/none/{item}\" for item in os.listdir(f\"{path}/none\") if item not in used_none_data ]\n",
        "    # data_temp = data_temp[~data_temp==used_none_data]\n",
        "    data_temp = random.sample(data_temp, add_size)\n",
        "    for i in range(len(data_x)):\n",
        "      if i %200 == 0:\n",
        "        print( i)\n",
        "      for add_wave in data_temp:\n",
        "        x_temp = wav2mfcc(add_noise_other(data_x[i][0],add_wave ))\n",
        "        x.append(x_temp )\n",
        "        y.append(data_y[i] )\n",
        "    x = np.array(x)\n",
        "    x = x.reshape(x.shape[0], x.shape[1], x.shape[2], 1)\n",
        "    y = np.array(y)\n",
        "\n",
        "    return x,y\n",
        "\n",
        "# 依照讀取的檔案加入對應的雜訊\n",
        "def GetFataFromNp(data_x,data_y ,add_size=10):\n",
        "    x = []\n",
        "    y = []\n",
        "    global used_none_data, to_niose_data\n",
        "    # data_temp = [f\"{path}/none/{item}\" for item in os.listdir(f\"{path}/none\") if item not in used_none_data ]\n",
        "    # data_temp = data_temp[~data_temp==used_none_data]\n",
        "    # data_temp = random.sample(list(to_niose_data), add_size)\n",
        "    data_temp = random.sample(list(to_niose_data), add_size)\n",
        "    for i in range(len(data_x)):\n",
        "      if i %200 == 0:\n",
        "        print( f\"now in {i} / {len(data_x)}====>there are {len(y)} data\")\n",
        "        # data_temp = random.sample(list(to_niose_data), add_size)\n",
        "      x_temp = wav2mfcc(data_x[i][0] )\n",
        "      x.append(x_temp )\n",
        "      y.append(data_y[i] )\n",
        "      # x_temp = wav2mfcc(add_noise(data_x[i][0]))\n",
        "      # x.append(x_temp )\n",
        "      # y.append(data_y[i] )\n",
        "      # data_temp = random.sample(list(to_niose_data), add_size)\n",
        "      for add_wave in data_temp:\n",
        "        x_temp = wav2mfcc(add_noise_other_np(data_x[i][0],add_wave[0] ))\n",
        "        x.append(x_temp )\n",
        "        y.append(data_y[i] )\n",
        "    x = np.array(x)\n",
        "    x = x.reshape(x.shape[0], x.shape[1], x.shape[2], 1)\n",
        "    y = np.array(y)\n",
        "\n",
        "    return x,y"
      ],
      "execution_count": null,
      "outputs": []
    },
    {
      "cell_type": "code",
      "metadata": {
        "id": "150IRFjy-hyU",
        "colab_type": "code",
        "colab": {
          "base_uri": "https://localhost:8080/",
          "height": 35
        },
        "outputId": "5d1afa5c-9310-4f7d-a1f7-3ef0f4eb6bf8"
      },
      "source": [
        "print(len(x_train_o),len(y_train_o),len(x_test_o),len(y_test_o))"
      ],
      "execution_count": null,
      "outputs": [
        {
          "output_type": "stream",
          "text": [
            "1900 1900 100 100\n"
          ],
          "name": "stdout"
        }
      ]
    },
    {
      "cell_type": "code",
      "metadata": {
        "id": "z5yd3rRW6YpA",
        "colab_type": "code",
        "colab": {
          "base_uri": "https://localhost:8080/",
          "height": 221
        },
        "outputId": "84a3195f-3913-4478-b2f9-6ec5df185012"
      },
      "source": [
        "x_train,y_train =  GetFataFromNp(x_train_o,y_train_o ,add_size=4)\n",
        "print(\"==================================\")\n",
        "x_test,y_test =  GetFataFromNp(x_test_o,y_test_o ,add_size=10)"
      ],
      "execution_count": null,
      "outputs": [
        {
          "output_type": "stream",
          "text": [
            "now in 0 / 1900====>there are 0 data\n",
            "now in 200 / 1900====>there are 1000 data\n",
            "now in 400 / 1900====>there are 2000 data\n",
            "now in 600 / 1900====>there are 3000 data\n",
            "now in 800 / 1900====>there are 4000 data\n",
            "now in 1000 / 1900====>there are 5000 data\n",
            "now in 1200 / 1900====>there are 6000 data\n",
            "now in 1400 / 1900====>there are 7000 data\n",
            "now in 1600 / 1900====>there are 8000 data\n",
            "now in 1800 / 1900====>there are 9000 data\n",
            "==================================\n",
            "now in 0 / 100====>there are 0 data\n"
          ],
          "name": "stdout"
        }
      ]
    },
    {
      "cell_type": "markdown",
      "metadata": {
        "id": "hRiWcaBhvzVN",
        "colab_type": "text"
      },
      "source": [
        "# 前處理檢查 & 儲存成文件\n"
      ]
    },
    {
      "cell_type": "code",
      "metadata": {
        "id": "y2ttlg7VPxGA",
        "colab_type": "code",
        "colab": {
          "base_uri": "https://localhost:8080/",
          "height": 227
        },
        "outputId": "1041b4ce-1a09-4b69-fa73-35dbb78f8008"
      },
      "source": [
        "def show_data(a):\n",
        "  print(type(a) )\n",
        "  print(a.shape )\n",
        "  print(a.dtype )\n",
        "show_data(x_train)\n",
        "show_data(x_test)\n",
        "show_data( y_train)\n",
        "show_data( y_test)\n",
        "# print(y_test)\n",
        "# example.save('example.npy')\n",
        "# np.save(f'{path}/x_train.npy',x_train)\n",
        "# np.save(f'{path}/y_train.npy',y_train)\n",
        "# np.save(f'{path}/x_test.npy',x_test)\n",
        "# np.save(f'{path}/y_test.npy',y_test)\n",
        "\n"
      ],
      "execution_count": null,
      "outputs": [
        {
          "output_type": "stream",
          "text": [
            "<class 'numpy.ndarray'>\n",
            "(9500, 20, 512, 1)\n",
            "float64\n",
            "<class 'numpy.ndarray'>\n",
            "(1100, 20, 512, 1)\n",
            "float64\n",
            "<class 'numpy.ndarray'>\n",
            "(9500, 5)\n",
            "float64\n",
            "<class 'numpy.ndarray'>\n",
            "(1100, 5)\n",
            "float64\n"
          ],
          "name": "stdout"
        }
      ]
    },
    {
      "cell_type": "markdown",
      "metadata": {
        "id": "rahxBGgMmCQR",
        "colab_type": "text"
      },
      "source": [
        "# 讀取聲音文字檔"
      ]
    },
    {
      "cell_type": "code",
      "metadata": {
        "id": "i_hnPddzfWhi",
        "colab_type": "code",
        "colab": {}
      },
      "source": [
        "\n",
        "# import os\n",
        "# import numpy as np\n",
        "# from sklearn.model_selection import train_test_split\n",
        "# from sklearn.utils import shuffle\n",
        "\n",
        "# path = \"/content/drive/My Drive/all_data_used\"\n",
        "# SAMPLING_RATE = 22050\n",
        "# MFCC_NUM = 20\n",
        "# MFCC_MAX_LEN = 1024\n",
        "\n",
        "# def show_data(a):\n",
        "#   print(type(a) )\n",
        "#   print(a.shape )\n",
        "#   print(a.dtype )\n",
        "\n",
        "\n",
        "# x_train=np.load(f'{path}/x_train.npy')\n",
        "# y_train=np.load(f'{path}/y_train.npy')\n",
        "# x_test=np.load(f'{path}/x_test.npy')\n",
        "# y_test=np.load(f'{path}/y_test.npy')\n",
        "# show_data(x_train)\n",
        "# show_data(x_test)\n",
        "# show_data( y_train)\n",
        "# show_data( y_test)\n",
        "\n"
      ],
      "execution_count": null,
      "outputs": []
    },
    {
      "cell_type": "markdown",
      "metadata": {
        "id": "zQwhkDJkl7Ki",
        "colab_type": "text"
      },
      "source": [
        "# 資料分割\n"
      ]
    },
    {
      "cell_type": "code",
      "metadata": {
        "id": "HyABOdwflz3L",
        "colab_type": "code",
        "colab": {
          "base_uri": "https://localhost:8080/",
          "height": 227
        },
        "outputId": "fe406226-fa00-4cb7-facf-98267cf816a5"
      },
      "source": [
        "from sklearn.model_selection import train_test_split\n",
        "from sklearn.utils import shuffle\n",
        "\n",
        "x_train,y_train = shuffle(x_train,y_train) # 打亂測試數據的資料\n",
        "x_test1,y_test1,x_test2,y_test2=train_test_split(x_test,y_test,test_size=0.5)\n",
        "\n",
        "def show_data(a):\n",
        "  print(type(a) )\n",
        "  print(a.shape )\n",
        "  print(a.dtype )\n",
        "\n",
        "\n",
        "show_data(x_test1)\n",
        "show_data(y_test1)\n",
        "show_data(x_test2)\n",
        "show_data(y_test2)"
      ],
      "execution_count": null,
      "outputs": [
        {
          "output_type": "stream",
          "text": [
            "<class 'numpy.ndarray'>\n",
            "(550, 20, 512, 1)\n",
            "float64\n",
            "<class 'numpy.ndarray'>\n",
            "(550, 20, 512, 1)\n",
            "float64\n",
            "<class 'numpy.ndarray'>\n",
            "(550, 5)\n",
            "float64\n",
            "<class 'numpy.ndarray'>\n",
            "(550, 5)\n",
            "float64\n"
          ],
          "name": "stdout"
        }
      ]
    },
    {
      "cell_type": "markdown",
      "metadata": {
        "id": "fJfrvU-cXNqV",
        "colab_type": "text"
      },
      "source": [
        "# 建立模組"
      ]
    },
    {
      "cell_type": "code",
      "metadata": {
        "id": "Tuhl4djM1c14",
        "colab_type": "code",
        "colab": {
          "base_uri": "https://localhost:8080/",
          "height": 34
        },
        "outputId": "e342345b-d7b8-4490-d728-4811c02f6607"
      },
      "source": [
        "from keras import backend as K\n",
        "import gc\n",
        "\n",
        "K.clear_session()\n",
        "gc.collect()"
      ],
      "execution_count": null,
      "outputs": [
        {
          "output_type": "execute_result",
          "data": {
            "text/plain": [
              "84"
            ]
          },
          "metadata": {
            "tags": []
          },
          "execution_count": 13
        }
      ]
    },
    {
      "cell_type": "code",
      "metadata": {
        "id": "eaMWU-ehPxGD",
        "colab_type": "code",
        "colab": {}
      },
      "source": [
        "import keras\n",
        "from keras.models import Sequential\n",
        "import keras.layers as ly\n",
        "from keras.utils import to_categorical,plot_model\n",
        "from keras import optimizers\n",
        "# from keras.layers import LeakyReLU\n",
        "\n",
        "\n",
        "# model.add(Conv2D(..., activation=lrelu, ...)\n",
        "\n",
        "# input_shape=(feature_dim_1, feature_dim_2, channel)\n",
        "def get_model(num_classes, input_shape):\n",
        "    model = Sequential()\n",
        "    model.add(ly.Conv2D(32, kernel_size=(3, 3),  input_shape=input_shape))\n",
        "    model.add(ly.LeakyReLU(alpha=0.1))\n",
        "    model.add(ly.Conv2D(64, kernel_size=(3, 3)))\n",
        "    model.add(ly.LeakyReLU(alpha=0.1))\n",
        "    # model.add(ly.Conv2D(128, kernel_size=(3, 3), activation='relu'))\n",
        "    model.add(ly.Flatten())\n",
        "    model.add(ly.Dropout(0.25))## new add\n",
        "    model.add(ly.Dense(64, activation='relu'))\n",
        "    model.add(ly.Dropout(0.4))\n",
        "    model.add(ly.Dense(num_classes, activation='softmax'))\n",
        "    return model\n",
        "\n",
        "# def get_model(num_classes, input_shape):\n",
        "#     model = Sequential()\n",
        "#     model.add(ly.Conv2D(32, kernel_size=(3, 3), activation='relu', input_shape=input_shape))\n",
        "#     model.add(ly.Conv2D(64, kernel_size=(3, 3), activation='relu'))\n",
        "#     model.add(ly.MaxPooling2D(pool_size=(2, 2)))\n",
        "#     model.add(ly.Dropout(0.25))\n",
        "#     model.add(ly.Flatten())\n",
        "#     model.add(ly.Dense(512, activation='relu')) ## new add\n",
        "#     model.add(ly.Dropout(0.25))relu## new add\n",
        "#     model.add(LSTM(128))\n",
        "#     model.add(Dense(128, activation='relu'))\n",
        "#     model.add(Dropout(0.25))\n",
        "#     model.add(ly.Dense(64, activation='relu'))\n",
        "#     model.add(ly.Dropout(0.4))\n",
        "#     model.add(ly.Dense(num_classes, activation='softmax'))\n",
        "#     return model\n",
        "\n",
        "def get_model_LSTM(num_classes, input_shape):\n",
        "    model = Sequential()\n",
        "    # model.add(ly.Conv2D(64, kernel_size=(3, 3), activation='relu', input_shape=input_shape))\n",
        "    model.add(ly.TimeDistributed(ly.LSTM(128),input_shape=input_shape))\n",
        "    print(model.output_shape)\n",
        "    model.add(ly.Dropout(0.25))\n",
        "    model.add(ly.Flatten())\n",
        "    model.add(ly.Dense(128, activation='relu')) ## new add\n",
        "    model.add(ly.Dense(32, activation='relu'))\n",
        "    model.add(ly.Dropout(0.4))\n",
        "    model.add(ly.Dense(num_classes, activation='softmax'))\n",
        "    return model"
      ],
      "execution_count": null,
      "outputs": []
    },
    {
      "cell_type": "code",
      "metadata": {
        "id": "UzB49SxMPxGG",
        "colab_type": "code",
        "colab": {
          "base_uri": "https://localhost:8080/",
          "height": 1000
        },
        "outputId": "c6ba5565-0c36-438c-9831-fafb86b7661c"
      },
      "source": [
        "import time\n",
        " \n",
        "print(time.strftime(\"%Y-%m-%d %H:%M:%S\", time.localtime()))\n",
        "\n",
        "channel = 1\n",
        "epochs = 30\n",
        "batch_size = 128\n",
        "verbose = 1\n",
        "\n",
        "num_classes = y_train.shape[1]\n",
        "input_shape = x_train[0].shape\n",
        "# input_shape = x_test.shape\n",
        "print(input_shape)\n",
        "# input_shape = (30,MFCC_MAX_LEN,1 )\n",
        "model = get_model(num_classes, input_shape)\n",
        "# model = get_model_LSTM(num_classes, input_shape)\n",
        "plot_model(model, to_file='/content/drive/My Drive/mode.png',show_shapes = True)\n",
        "\n"
      ],
      "execution_count": null,
      "outputs": [
        {
          "output_type": "stream",
          "text": [
            "2020-06-27 01:50:29\n",
            "(20, 512, 1)\n"
          ],
          "name": "stdout"
        },
        {
          "output_type": "execute_result",
          "data": {
            "image/png": "[encoded data removed]",
            "text/plain": [
              "<IPython.core.display.Image object>"
            ]
          },
          "metadata": {
            "tags": []
          },
          "execution_count": 67
        }
      ]
    },
    {
      "cell_type": "code",
      "metadata": {
        "id": "eV1d-ze7pgde",
        "colab_type": "code",
        "colab": {}
      },
      "source": [
        "# optimizer = optimizers.SGD(lr=0.0005, decay=1e-6, momentum=0.9, nesterov=True)\n",
        "# loss_op = keras.losses.categorical_crossentropy\n",
        "# optimizer=  keras.optimizers.Adam(learning_rate=0.0005)\n",
        "optimizer=  keras.optimizers.Adamax(learning_rate=0.0005)\n",
        "# loss_op = keras.losses.binary_crossentropy\n",
        "loss_op = keras.losses.hinge\n",
        "model.compile(loss=loss_op,\n",
        "              optimizer=optimizer,\n",
        "              metrics=['accuracy'])"
      ],
      "execution_count": null,
      "outputs": []
    },
    {
      "cell_type": "markdown",
      "metadata": {
        "id": "1Ac0WCruXbwG",
        "colab_type": "text"
      },
      "source": [
        "# 開始計算"
      ]
    },
    {
      "cell_type": "code",
      "metadata": {
        "id": "spvo-35E70dN",
        "colab_type": "code",
        "colab": {
          "base_uri": "https://localhost:8080/",
          "height": 1000
        },
        "outputId": "ec2cffea-dc1a-409b-86f6-060c2808dac0"
      },
      "source": [
        "history= model.fit(x_train, y_train, batch_size=batch_size, epochs=epochs,verbose=verbose, validation_data=(x_test1, x_test2))\n",
        "# history= model.fit(x_train, y_train, batch_size=batch_size, epochs=20,verbose=verbose, validation_data=(x_test1, x_test2))"
      ],
      "execution_count": null,
      "outputs": [
        {
          "output_type": "stream",
          "text": [
            "Train on 9500 samples, validate on 550 samples\n",
            "Epoch 1/30\n",
            "9500/9500 [==============================] - 5s 520us/step - loss: 1.1162 - accuracy: 0.2098 - val_loss: 1.0864 - val_accuracy: 0.2873\n",
            "Epoch 2/30\n",
            "9500/9500 [==============================] - 5s 495us/step - loss: 1.0889 - accuracy: 0.2780 - val_loss: 1.0596 - val_accuracy: 0.3509\n",
            "Epoch 3/30\n",
            "9500/9500 [==============================] - 5s 498us/step - loss: 1.0799 - accuracy: 0.3003 - val_loss: 1.0586 - val_accuracy: 0.3545\n",
            "Epoch 4/30\n",
            "9500/9500 [==============================] - 5s 497us/step - loss: 1.0625 - accuracy: 0.3438 - val_loss: 1.0561 - val_accuracy: 0.3600\n",
            "Epoch 5/30\n",
            "9500/9500 [==============================] - 5s 496us/step - loss: 1.0471 - accuracy: 0.3825 - val_loss: 1.0300 - val_accuracy: 0.4255\n",
            "Epoch 6/30\n",
            "9500/9500 [==============================] - 5s 498us/step - loss: 1.0258 - accuracy: 0.4351 - val_loss: 1.0321 - val_accuracy: 0.4200\n",
            "Epoch 7/30\n",
            "9500/9500 [==============================] - 5s 495us/step - loss: 1.0113 - accuracy: 0.4721 - val_loss: 0.9706 - val_accuracy: 0.5745\n",
            "Epoch 8/30\n",
            "9500/9500 [==============================] - 5s 497us/step - loss: 0.9734 - accuracy: 0.5664 - val_loss: 0.9612 - val_accuracy: 0.5927\n",
            "Epoch 9/30\n",
            "9500/9500 [==============================] - 5s 494us/step - loss: 0.9435 - accuracy: 0.6408 - val_loss: 0.9271 - val_accuracy: 0.6855\n",
            "Epoch 10/30\n",
            "9500/9500 [==============================] - 5s 492us/step - loss: 0.9176 - accuracy: 0.7064 - val_loss: 0.9324 - val_accuracy: 0.6691\n",
            "Epoch 11/30\n",
            "9500/9500 [==============================] - 5s 494us/step - loss: 0.9013 - accuracy: 0.7474 - val_loss: 0.9452 - val_accuracy: 0.6364\n",
            "Epoch 12/30\n",
            "9500/9500 [==============================] - 5s 494us/step - loss: 0.8941 - accuracy: 0.7661 - val_loss: 0.9384 - val_accuracy: 0.6527\n",
            "Epoch 13/30\n",
            "9500/9500 [==============================] - 5s 492us/step - loss: 0.8834 - accuracy: 0.7927 - val_loss: 0.9195 - val_accuracy: 0.7018\n",
            "Epoch 14/30\n",
            "9500/9500 [==============================] - 5s 496us/step - loss: 0.8768 - accuracy: 0.8083 - val_loss: 0.9224 - val_accuracy: 0.6945\n",
            "Epoch 15/30\n",
            "9500/9500 [==============================] - 5s 498us/step - loss: 0.8703 - accuracy: 0.8257 - val_loss: 0.9183 - val_accuracy: 0.7091\n",
            "Epoch 16/30\n",
            "9500/9500 [==============================] - 5s 501us/step - loss: 0.8644 - accuracy: 0.8392 - val_loss: 0.9102 - val_accuracy: 0.7200\n",
            "Epoch 17/30\n",
            "9500/9500 [==============================] - 5s 499us/step - loss: 0.8602 - accuracy: 0.8500 - val_loss: 0.9186 - val_accuracy: 0.7036\n",
            "Epoch 18/30\n",
            "9500/9500 [==============================] - 5s 494us/step - loss: 0.8569 - accuracy: 0.8588 - val_loss: 0.9075 - val_accuracy: 0.7364\n",
            "Epoch 19/30\n",
            "9500/9500 [==============================] - 5s 499us/step - loss: 0.8524 - accuracy: 0.8709 - val_loss: 0.9096 - val_accuracy: 0.7236\n",
            "Epoch 20/30\n",
            "9500/9500 [==============================] - 5s 496us/step - loss: 0.8510 - accuracy: 0.8739 - val_loss: 0.9063 - val_accuracy: 0.7309\n",
            "Epoch 21/30\n",
            "9500/9500 [==============================] - 5s 496us/step - loss: 0.8486 - accuracy: 0.8803 - val_loss: 0.9135 - val_accuracy: 0.7200\n",
            "Epoch 22/30\n",
            "9500/9500 [==============================] - 5s 496us/step - loss: 0.8468 - accuracy: 0.8837 - val_loss: 0.9110 - val_accuracy: 0.7218\n",
            "Epoch 23/30\n",
            "9500/9500 [==============================] - 5s 496us/step - loss: 0.8440 - accuracy: 0.8915 - val_loss: 0.9210 - val_accuracy: 0.7000\n",
            "Epoch 24/30\n",
            "9500/9500 [==============================] - 5s 496us/step - loss: 0.8399 - accuracy: 0.9014 - val_loss: 0.9083 - val_accuracy: 0.7255\n",
            "Epoch 25/30\n",
            "9500/9500 [==============================] - 5s 496us/step - loss: 0.8385 - accuracy: 0.9048 - val_loss: 0.9104 - val_accuracy: 0.7236\n",
            "Epoch 26/30\n",
            "9500/9500 [==============================] - 5s 494us/step - loss: 0.8361 - accuracy: 0.9111 - val_loss: 0.9184 - val_accuracy: 0.7055\n",
            "Epoch 27/30\n",
            "9500/9500 [==============================] - 5s 496us/step - loss: 0.8337 - accuracy: 0.9181 - val_loss: 0.9086 - val_accuracy: 0.7327\n",
            "Epoch 28/30\n",
            "9500/9500 [==============================] - 5s 495us/step - loss: 0.8318 - accuracy: 0.9222 - val_loss: 0.9090 - val_accuracy: 0.7291\n",
            "Epoch 29/30\n",
            "9500/9500 [==============================] - 5s 496us/step - loss: 0.8301 - accuracy: 0.9264 - val_loss: 0.9039 - val_accuracy: 0.7473\n",
            "Epoch 30/30\n",
            "9500/9500 [==============================] - 5s 494us/step - loss: 0.8283 - accuracy: 0.9316 - val_loss: 0.9052 - val_accuracy: 0.7345\n"
          ],
          "name": "stdout"
        }
      ]
    },
    {
      "cell_type": "markdown",
      "metadata": {
        "id": "2ziMD_6Tmsx1",
        "colab_type": "text"
      },
      "source": [
        "# 儲存model"
      ]
    },
    {
      "cell_type": "code",
      "metadata": {
        "id": "cWOf-UkJPxGM",
        "colab_type": "code",
        "colab": {}
      },
      "source": [
        "from keras.models import load_model\n",
        "\n",
        "model.save('/content/drive/My Drive/model20200627_leakyRelu_1.h5')  # creates a HDF5 file 'model.h5'"
      ],
      "execution_count": null,
      "outputs": []
    },
    {
      "cell_type": "markdown",
      "metadata": {
        "id": "KqB2sdcFXiHe",
        "colab_type": "text"
      },
      "source": [
        "# 練習結果驗證\n"
      ]
    },
    {
      "cell_type": "code",
      "metadata": {
        "id": "mWKRYcJEEu-z",
        "colab_type": "code",
        "colab": {
          "base_uri": "https://localhost:8080/",
          "height": 316
        },
        "outputId": "d4889b7e-f5f7-4440-a8a8-3b6fb4885026"
      },
      "source": [
        "import matplotlib.pyplot as plt\n",
        "import time\n",
        " \n",
        "# 格式化成2016-03-20 11:45:39形式\n",
        "\n",
        "print(time.strftime(\"%Y-%m-%d %H:%M:%S\", time.localtime()))\n",
        "plt.subplot(121)\n",
        "plt.title('Loss')\n",
        "plt.plot(history.history['loss'], label='train')\n",
        "plt.plot(history.history['val_loss'], label='test')\n",
        "\n",
        "plt.legend()\n",
        "# plot mse during training\n",
        "plt.subplot(122)\n",
        "plt.title('accuracy')\n",
        "plt.plot(history.history['accuracy'], label='train')\n",
        "plt.plot(history.history['val_accuracy'], label='test')\n",
        "\n",
        "plt.legend()\n",
        "plt.figure(figsize=(30,60))\n",
        "plt.show()"
      ],
      "execution_count": null,
      "outputs": [
        {
          "output_type": "stream",
          "text": [
            "2020-06-27 01:57:14\n"
          ],
          "name": "stdout"
        },
        {
          "output_type": "display_data",
          "data": {
            "image/png": "[encoded data removed]",
            "text/plain": [
              "<Figure size 432x288 with 2 Axes>"
            ]
          },
          "metadata": {
            "tags": [],
            "needs_background": "light"
          }
        },
        {
          "output_type": "display_data",
          "data": {
            "text/plain": [
              "<Figure size 2160x4320 with 0 Axes>"
            ]
          },
          "metadata": {
            "tags": []
          }
        }
      ]
    },
    {
      "cell_type": "code",
      "metadata": {
        "id": "jqQOcU3tPxGR",
        "colab_type": "code",
        "colab": {
          "base_uri": "https://localhost:8080/",
          "height": 278
        },
        "outputId": "2e76f5e1-2e65-427e-fddb-cb17dcb5ae66"
      },
      "source": [
        "import matplotlib.pyplot as plt\n",
        "\n",
        "loss = history.history['loss']\n",
        "val_loss = history.history['val_loss']\n",
        "epochs=range(1,len(loss)+1)\n",
        "plt.plot(epochs,loss,'b',label=\"training loss\",c=\"red\")\n",
        "plt.plot(epochs,val_loss,'b',label=\"validation loss\")\n",
        "plt.xlabel('epochs')\n",
        "plt.ylabel('Loss')\n",
        "plt.legend()\n",
        "plt.show()\n"
      ],
      "execution_count": null,
      "outputs": [
        {
          "output_type": "display_data",
          "data": {
            "image/png": "[encoded data removed]",
            "text/plain": [
              "<Figure size 432x288 with 1 Axes>"
            ]
          },
          "metadata": {
            "tags": [],
            "needs_background": "light"
          }
        }
      ]
    },
    {
      "cell_type": "code",
      "metadata": {
        "id": "fhwyMzJOwBB6",
        "colab_type": "code",
        "colab": {
          "base_uri": "https://localhost:8080/",
          "height": 278
        },
        "outputId": "6d3b5c63-882d-489d-bc22-26a4040b07e4"
      },
      "source": [
        "import matplotlib.pyplot as plt\n",
        "categorical_accuracy = history.history['accuracy']\n",
        "val_categorical_accuracy = history.history['val_accuracy']\n",
        "epochs=range(1,len(categorical_accuracy)+1)\n",
        "plt.plot(epochs, categorical_accuracy,'b',label=\"training accuracy\",c=\"red\")\n",
        "plt.plot(epochs, val_categorical_accuracy,'b',label=\"validation accuracy\")\n",
        "plt.xlabel('epochs')\n",
        "plt.ylabel('accuracy')\n",
        "plt.legend()\n",
        "plt.show()"
      ],
      "execution_count": null,
      "outputs": [
        {
          "output_type": "display_data",
          "data": {
            "image/png": "[encoded data removed]",
            "text/plain": [
              "<Figure size 432x288 with 1 Axes>"
            ]
          },
          "metadata": {
            "tags": [],
            "needs_background": "light"
          }
        }
      ]
    },
    {
      "cell_type": "markdown",
      "metadata": {
        "id": "_v2ct4O94TQd",
        "colab_type": "text"
      },
      "source": [
        "# 資料測試驗證"
      ]
    },
    {
      "cell_type": "code",
      "metadata": {
        "id": "bjHJKCJkPxGW",
        "colab_type": "code",
        "colab": {
          "base_uri": "https://localhost:8080/",
          "height": 34
        },
        "outputId": "6f9ecc39-abc5-4681-ac79-f2ecefa03569"
      },
      "source": [
        "loss, accuracy = model.evaluate(x_train, y_train, batch_size=y_test.shape[0], \n",
        "            verbose=False)\n",
        "\n",
        "loss, accuracy = model.evaluate(x_test, y_test, batch_size=y_test.shape[0], \n",
        "            verbose=False)\n",
        "\n",
        "# loss, accuracy = model.evaluate(y_test1, y_test2, batch_size=y_test.shape[0], \n",
        "#             verbose=False)\n",
        "# Y_testnas = model.predict(x_test)\n",
        "print(\"test loss: {}  test accuracy: {}\".format(loss,accuracy))\n",
        "\n",
        "# around1 = np.around(Y_testnas).astype(np.int)\n",
        "# around1"
      ],
      "execution_count": null,
      "outputs": [
        {
          "output_type": "stream",
          "text": [
            "test loss: 0.3339627981185913  test accuracy: 0.8054545521736145\n"
          ],
          "name": "stdout"
        }
      ]
    },
    {
      "cell_type": "code",
      "metadata": {
        "id": "gw98dIccPxGd",
        "colab_type": "code",
        "colab": {}
      },
      "source": [
        "from pydub import AudioSegment\n",
        "import os\n",
        "import numpy as np\n",
        "import scipy.io.wavfile as wav\n",
        "import random\n",
        "import librosa\n",
        "from sklearn.model_selection import train_test_split\n",
        "import gc\n",
        "# SAMPLING_RATE = 44100\n",
        "MFCC_NUM = 20\n",
        "MFCC_MAX_LEN = 512\n",
        "SAMPLING_RATE=22050\n",
        "# def wav2mfcc(wave, max_len=2000):\n",
        "# #     mfcc = librosa.feature.mfcc(wave, sr=16000)\n",
        "#     wave = wave / np.amax(wave)\n",
        "#     mfcc = librosa.feature.mfcc(wave, n_mfcc=MFCC_NUM, sr=SAMPLING_RATE)\n",
        "\n",
        "#     # If maximum length exceeds mfcc lengths then pad the remaining ones\n",
        "#     if (max_len > mfcc.shape[1]):\n",
        "#         pad_width = max_len - mfcc.shape[1]\n",
        "#         mfcc = np.pad(mfcc, pad_width=((0, 0), (0, pad_width)), mode='constant')\n",
        "\n",
        "#     # Else cutoff the remaining parts\n",
        "#     else:\n",
        "#         mfcc = mfcc[:, :max_len]\n",
        "    \n",
        "#     return mfcc\n",
        "\n",
        "def wav2mfcc(wave, max_len=512):\n",
        "#     mfcc = librosa.feature.mfcc(wave, sr=16000)\n",
        "    wave_mean = abs(np.mean(wave))\n",
        "    \n",
        "    if wave_mean != 0:\n",
        "      wave = wave / wave_mean\n",
        "    mfcc = librosa.feature.mfcc(wave, n_mfcc=MFCC_NUM, sr=SAMPLING_RATE)\n",
        "\n",
        "    # If maximum length exceeds mfcc lengths then pad the remaining ones\n",
        "    if (max_len > mfcc.shape[1]):\n",
        "        pad_width = max_len - mfcc.shape[1]\n",
        "        mfcc = np.pad(mfcc, pad_width=((0, 0), (0, pad_width)), mode='constant')\n",
        "\n",
        "    # Else cutoff the remaining parts\n",
        "    else:\n",
        "        mfcc = mfcc[:, :max_len]\n",
        "    \n",
        "    return mfcc\n",
        "\n",
        "\n",
        "\n",
        "def create_test_data(path=\"F:/catsound/excmple\", extension = \"wav\"):\n",
        "#     wave, sr = librosa.load(path, mono=True, sr=None)\n",
        "    mfcc_list = []\n",
        "    audio, sr = librosa.load(path, mono=True, sr=None)\n",
        "# Get number of samples for 2 seconds; replace 2 by any number\n",
        "    buffer = 2 * sr\n",
        "    samples_total = len(audio)\n",
        "    samples_wrote = 0\n",
        "    counter = 1\n",
        "    while samples_wrote < samples_total:\n",
        "        #check if the buffer is not exceeding total samples \n",
        "        if buffer > (samples_total - samples_wrote):\n",
        "            buffer = samples_total - samples_wrote\n",
        "        block = audio[samples_wrote : (samples_wrote + buffer)]\n",
        "        mfcc = wav2mfcc(block,MFCC_MAX_LEN)\n",
        "        \n",
        "        mfcc_list.append(mfcc)\n",
        "        counter += 1\n",
        "        samples_wrote += buffer\n",
        "    mfcc_list = np.array(mfcc_list)\n",
        "    mfcc_list = mfcc_list.reshape(mfcc_list.shape[0], MFCC_NUM, MFCC_MAX_LEN, 1)\n",
        "    return mfcc_list\n",
        "\n",
        "\n",
        "def create_test_data2(path=\"F:/catsound/excmple\", extension = \"wav\"):\n",
        "#     wave, sr = librosa.load(path, mono=True, sr=None)\n",
        "    mfcc_list = []\n",
        "    audio, sr = librosa.load(path, mono=True, sr=None)\n",
        "# Get number of samples for 2 seconds; replace 2 by any number\n",
        "    buffer = 2 * sr\n",
        "    samples_total = len(audio)\n",
        "    samples_wrote = 0\n",
        "    counter = 1\n",
        "    while samples_wrote < samples_total:\n",
        "        #check if the buffer is not exceeding total samples \n",
        "        if buffer > (samples_total - samples_wrote):\n",
        "            buffer = samples_total - samples_wrote\n",
        "        block = audio[samples_wrote : (samples_wrote + buffer)]\n",
        "        data = np.append(wav2mfcc(wave),wav2stft(wave),axis=0)\n",
        "        data_list.append(data)\n",
        "        counter += 1\n",
        "        samples_wrote += buffer\n",
        "    data_list = np.array(mfcc_list)\n",
        "    data_list = data_list.reshape(data_list.shape[0], data_list.shape[1], data_list.shape[2], 1)\n",
        "    return mfcc_list\n",
        "\n",
        "\n",
        "def test_ans_show(path,model, extension = \"wav\" ):\n",
        "  list_sigle =['none', 'purring', 'cat_talk_cats', 'cat_call_persion', 'caveat']\n",
        "\n",
        "  test_one_list = create_test_data(path)\n",
        "  Y_testnas = model.predict(test_one_list)\n",
        "\n",
        "  Y_testnas = Y_testnas[~np.all(Y_testnas < 0.1, axis=1)]\n",
        "  Y_testnas = np.mean(Y_testnas, axis = 0)\n",
        "  Y_testnas = np.around(Y_testnas, decimals=2) \n",
        "\n",
        "\n",
        "  ans = {}\n",
        "  for i in range(len(list_sigle)):\n",
        "    ans[list_sigle[i]] = Y_testnas[i]\n",
        "  print(ans)\n",
        "\n",
        "\n",
        "# test_one_list = create_test_data(\"F:/python_coding/sound/wavfile/cut_angry/cat_angry (876).wav\")\n",
        "# test_one_list = create_test_data(\"/content/drive/My Drive/貓打架-專業版.wav\")\n",
        "# for i in test_one_list:\n",
        "#     ipd.Audio(i)"
      ],
      "execution_count": null,
      "outputs": []
    },
    {
      "cell_type": "markdown",
      "metadata": {
        "id": "fvWHorwXo5du",
        "colab_type": "text"
      },
      "source": [
        "# 讀取madel"
      ]
    },
    {
      "cell_type": "code",
      "metadata": {
        "id": "Q4dyz5FPUDD4",
        "colab_type": "code",
        "colab": {}
      },
      "source": [
        "from keras.models import load_model\n",
        "\n",
        "model = load_model('/content/drive/My Drive/model20200627_leakyRelu.h5')  # creates a HDF5 file 'model.h5'"
      ],
      "execution_count": null,
      "outputs": []
    },
    {
      "cell_type": "code",
      "metadata": {
        "id": "gTFd5-ZX5941",
        "colab_type": "code",
        "colab": {
          "base_uri": "https://localhost:8080/",
          "height": 391
        },
        "outputId": "1447c367-1856-4563-e638-b3d9ca4c98c1"
      },
      "source": [
        "\n",
        "# test_one_list = create_test_data(\"/content/drive/My Drive/貓打架-專業版.wav\")\n",
        "# Y_testnas = model.predict(test_one_list)\n",
        "# around1 = np.around(Y_testnas)\n",
        "# around1\n",
        "# list_sigle =['none', 'purring', 'cat_talk_cats', 'cat_call_persion', 'caveat']\n",
        "\n",
        "test_path = \"/content/drive/My Drive/test_sound/\"\n",
        "wav_test_list = os.listdir(test_path)\n",
        "for name in wav_test_list:\n",
        "    print( name )\n",
        "    test_ans_show( f\"{test_path}/{name}\" , model)\n"
      ],
      "execution_count": null,
      "outputs": [
        {
          "output_type": "stream",
          "text": [
            "小貓發情了！碎花要變少女了嗎丨麻糬貓奴貓咪日常 001.wav\n",
            "{'none': 0.03, 'purring': 0.01, 'cat_talk_cats': 0.36, 'cat_call_persion': 0.07, 'caveat': 0.53}\n",
            "来听猫叔打呼噜吧, 非常的治愈哦 标清.wav\n",
            "{'none': 0.03, 'purring': 0.01, 'cat_talk_cats': 0.61, 'cat_call_persion': 0.31, 'caveat': 0.04}\n",
            "貓打架-專業版.wav\n",
            "{'none': 0.0, 'purring': 0.0, 'cat_talk_cats': 1.0, 'cat_call_persion': 0.0, 'caveat': 0.0}\n",
            "貓(喵)老大打架_.wav\n",
            "{'none': 0.02, 'purring': 0.01, 'cat_talk_cats': 0.05, 'cat_call_persion': 0.22, 'caveat': 0.71}\n",
            "噓聲.wav\n",
            "{'none': 0.0, 'purring': 0.0, 'cat_talk_cats': 1.0, 'cat_call_persion': 0.0, 'caveat': 0.0}\n",
            "风声_爱给网_aigei_com.wav\n",
            "{'none': 0.41, 'purring': 0.0, 'cat_talk_cats': 0.01, 'cat_call_persion': 0.58, 'caveat': 0.0}\n",
            "只想宅在家｜碧昂絲專屬教練教妳結合皮拉提斯和芭蕾的健身 - Barre，全身都能瘦！｜Stay Home With ELLE.wav\n",
            "{'none': 0.07, 'purring': 0.43, 'cat_talk_cats': 0.18, 'cat_call_persion': 0.08, 'caveat': 0.24}\n",
            "Cat asking for help.wav\n",
            "{'none': 0.03, 'purring': 0.13, 'cat_talk_cats': 0.58, 'cat_call_persion': 0.08, 'caveat': 0.18}\n",
            "Cat Purring Sound Effect!.wav\n",
            "{'none': 0.0, 'purring': 0.0, 'cat_talk_cats': 0.99, 'cat_call_persion': 0.0, 'caveat': 0.0}\n",
            "小猫咪的叫声听不厌啊，屡听不爽.wav\n",
            "{'none': 0.19, 'purring': 0.0, 'cat_talk_cats': 0.51, 'cat_call_persion': 0.28, 'caveat': 0.02}\n",
            "藍貓-發情K.wav\n",
            "{'none': 0.0, 'purring': 0.0, 'cat_talk_cats': 0.0, 'cat_call_persion': 0.0, 'caveat': 1.0}\n"
          ],
          "name": "stdout"
        }
      ]
    },
    {
      "cell_type": "markdown",
      "metadata": {
        "id": "ixWUWWUXBGhY",
        "colab_type": "text"
      },
      "source": [
        "# list_sigle =['none', 'purring', 'cat_talk_cats', 'cat_call_persion', 'caveat']\n"
      ]
    },
    {
      "cell_type": "markdown",
      "metadata": {
        "id": "WZczcz7oWMcr",
        "colab_type": "text"
      },
      "source": [
        "# 其他測試"
      ]
    },
    {
      "cell_type": "code",
      "metadata": {
        "id": "5yIm0H7OWTgM",
        "colab_type": "code",
        "colab": {}
      },
      "source": [
        "\n",
        "from pydub import AudioSegment\n",
        "import os\n",
        "import numpy as np\n",
        "import scipy.io.wavfile as wav\n",
        "import random\n",
        "import librosa\n",
        "from sklearn.model_selection import train_test_split\n",
        "import gc\n",
        "\n",
        "SAMPLING_RATE = 44100\n",
        "MFCC_NUM = 20\n",
        "MFCC_MAX_LEN = 2000\n",
        "path = \"/content/drive/My Drive/all_data_used\"\n",
        "list_sigle =['none', 'purring', 'cat_talk_cats', 'cat_call_persion', 'caveat']\n",
        "\n",
        "def find_Max_len():\n",
        "    MAX_LEN = 96000\n",
        "    all_data_folder_name = [f\"{item}\" for item in os.listdir(path)]\n",
        "    for folder_name in all_data_folder_name:\n",
        "      print(folder_name)\n",
        "      file_name = os.listdir(f\"{path}/{folder_name}\")\n",
        "      data_temp = [f\"{path}/{folder_name}/{item}\" for item in file_name]\n",
        "      for item in data_temp:\n",
        "        try:\n",
        "          wave, sr = librosa.load(item, mono=True, sr=None)\n",
        "          len_wave = len(wave)\n",
        "          if len_wave > MAX_LEN:\n",
        "            print(item)\n",
        "        except:\n",
        "          print(\"error\")\n",
        "          pass\n",
        "    return MAX_LEN\n",
        "\n",
        "find_Max_len()"
      ],
      "execution_count": null,
      "outputs": []
    },
    {
      "cell_type": "code",
      "metadata": {
        "id": "7A1iGTRPXXmU",
        "colab_type": "code",
        "colab": {}
      },
      "source": [
        "from pydub import AudioSegment\n",
        "import os\n",
        "import numpy as np\n",
        "import scipy.io.wavfile as wav\n",
        "import random\n",
        "import librosa\n",
        "from sklearn.model_selection import train_test_split\n",
        "import gc\n",
        "\n",
        "path_nano = \"/content/drive/My Drive/all_data_used/purring\"\n",
        "file_name = os.listdir(f\"{path_nano}\")\n",
        "data_temp = [f\"{path_nano}/{item}\" for item in file_name]\n",
        "wave = wave, sr = librosa.load(data_temp[0], mono=True, sr=None)\n",
        "count = 0 \n",
        "for item in data_temp:\n",
        "    if count ==0 :\n",
        "      wave, sr = librosa.load(item, mono=True, sr=None)\n",
        "    else:\n",
        "      wave_add, sr = librosa.load(item, mono=True, sr=None)\n",
        "      wave = np.append(wave, wave_add)\n",
        "\n",
        "wave.export( f\"/content/drive/My Drive/purring.wav\", format=\"wav\")\n",
        "\n"
      ],
      "execution_count": null,
      "outputs": []
    },
    {
      "cell_type": "code",
      "metadata": {
        "id": "o1lbmR76pMge",
        "colab_type": "code",
        "colab": {}
      },
      "source": [
        ""
      ],
      "execution_count": null,
      "outputs": []
    }
  ]
}